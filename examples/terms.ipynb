{
 "cells": [
  {
   "cell_type": "markdown",
   "metadata": {},
   "source": [
    "# Enumerating λ-join-calculus normal forms"
   ]
  },
  {
   "cell_type": "code",
   "execution_count": null,
   "metadata": {},
   "outputs": [],
   "source": [
    "import math\n",
    "from collections import Counter\n",
    "\n",
    "import matplotlib.pyplot as plt\n",
    "\n",
    "from hstar.enumeration import Refiner, enumerator\n",
    "from hstar.normal import VAR, Term, complexity, is_deterministic, is_normal\n",
    "\n",
    "%config InlineBackend.figure_format = 'svg'"
   ]
  },
  {
   "cell_type": "markdown",
   "metadata": {},
   "source": [
    "This should take about 20 seconds on the first execution."
   ]
  },
  {
   "cell_type": "code",
   "execution_count": null,
   "metadata": {},
   "outputs": [],
   "source": [
    "%%time\n",
    "max_complexity = 12\n",
    "terms: list[Term] = []\n",
    "for term in enumerator:\n",
    "    if complexity(term) > max_complexity:\n",
    "        break\n",
    "    terms.append(term)\n",
    "len(terms)"
   ]
  },
  {
   "cell_type": "code",
   "execution_count": null,
   "metadata": {},
   "outputs": [],
   "source": [
    "closed_terms = [t for t in terms if not t.free_vars]\n",
    "len(closed_terms)"
   ]
  },
  {
   "cell_type": "code",
   "execution_count": null,
   "metadata": {},
   "outputs": [],
   "source": [
    "det_terms = [t for t in terms if is_deterministic(t)]\n",
    "len(det_terms)"
   ]
  },
  {
   "cell_type": "code",
   "execution_count": null,
   "metadata": {},
   "outputs": [],
   "source": [
    "closed_det_terms = [t for t in closed_terms if is_deterministic(t)]\n",
    "len(closed_det_terms)"
   ]
  },
  {
   "cell_type": "code",
   "execution_count": null,
   "metadata": {},
   "outputs": [],
   "source": [
    "normal_terms = [t for t in terms if is_normal(t)]\n",
    "len(normal_terms)"
   ]
  },
  {
   "cell_type": "code",
   "execution_count": null,
   "metadata": {},
   "outputs": [],
   "source": [
    "closed_normal_terms = [t for t in closed_terms if is_normal(t)]\n",
    "len(closed_normal_terms)"
   ]
  },
  {
   "cell_type": "code",
   "execution_count": null,
   "metadata": {},
   "outputs": [],
   "source": [
    "%%time\n",
    "sketches: list[Term] = []\n",
    "refiner = Refiner(VAR(0), on_fact=lambda term, valid: None)\n",
    "while True:\n",
    "    term = refiner.next_candidate()\n",
    "    if complexity(term) > max_complexity:\n",
    "        break\n",
    "    sketches.append(term)\n",
    "len(sketches)"
   ]
  },
  {
   "cell_type": "code",
   "execution_count": null,
   "metadata": {},
   "outputs": [],
   "source": [
    "def plot_counts() -> None:\n",
    "    all_counts = Counter(complexity(t) for t in terms)\n",
    "    closed_counts = Counter(complexity(t) for t in closed_terms)\n",
    "    det_counts = Counter(complexity(t) for t in det_terms)\n",
    "    closed_det_counts = Counter(complexity(t) for t in closed_det_terms)\n",
    "    normal_counts = Counter(complexity(t) for t in normal_terms)\n",
    "    closed_normal_counts = Counter(complexity(t) for t in closed_normal_terms)\n",
    "    sketch_counts = Counter(\n",
    "        complexity(t) for t in sketches if complexity(t) <= max_complexity\n",
    "    )\n",
    "    x = range(1, max_complexity + 1)\n",
    "    y1 = [all_counts[i] for i in x]\n",
    "    y2 = [closed_counts[i] for i in x]\n",
    "    y3 = [det_counts[i] for i in x]\n",
    "    y4 = [closed_det_counts[i] for i in x]\n",
    "    y5 = [all_counts[i] - normal_counts[i] for i in x]\n",
    "    y6 = [closed_counts[i] - closed_normal_counts[i] for i in x]\n",
    "    y7 = [sketch_counts[i] for i in x]\n",
    "    plt.figure(figsize=(8,6))\n",
    "    plt.plot(x, y1, label=\"all\", linestyle=\"--\", color=\"C0\")\n",
    "    plt.plot(x, y2, label=\"closed\", linestyle=\"-\", color=\"C0\")\n",
    "    plt.plot(x, y3, label=\"deterministic\", linestyle=\"--\", color=\"C1\")\n",
    "    plt.plot(x, y4, label=\"closed deterministic\", linestyle=\"-\", color=\"C1\")\n",
    "    plt.plot(x, y5, label=\"non-normal\", linestyle=\"--\", color=\"C2\")\n",
    "    plt.plot(x, y6, label=\"closed non-normal\", linestyle=\"-\", color=\"C2\")\n",
    "    plt.plot(x, y7, label=\"sketches\", linestyle=\"-\", color=\"C3\")\n",
    "    plt.text(x[-1], y1[-1], f\" {y1[-1]}\", va=\"center\", ha=\"left\")\n",
    "    plt.text(x[-1], y2[-1], f\" {y2[-1]}\", va=\"center\", ha=\"left\")\n",
    "    plt.text(x[-1], y3[-1], f\" {y3[-1]}\", va=\"center\", ha=\"left\")\n",
    "    plt.text(x[-1], y4[-1], f\" {y4[-1]}\", va=\"center\", ha=\"left\")\n",
    "    plt.text(x[-1], y5[-1], f\" {y5[-1]}\", va=\"center\", ha=\"left\")\n",
    "    plt.text(x[-1], y6[-1], f\" {y6[-1]}\", va=\"center\", ha=\"left\")\n",
    "    plt.text(x[-1], y7[-1], f\" {y7[-1]}\", va=\"center\", ha=\"left\")\n",
    "    plt.legend(loc=\"best\")\n",
    "    plt.xlim(1, max_complexity + 1)\n",
    "    plt.yscale(\"log\")\n",
    "    # Add a grid of horizontal lines showing powers of 2.\n",
    "    for i in range(0, int(math.log2(y1[-1])) + 1): \n",
    "        plt.axhline(2**i, color=\"k\", linestyle=\"-\", linewidth=0.5, alpha=0.15)\n",
    "    plt.xlabel(\"Complexity\")\n",
    "    plt.ylabel(\"Count\")\n",
    "    plt.title(\"How many affine normal forms are there?\")\n",
    "    plt.show()\n",
    "\n",
    "plot_counts()\n"
   ]
  },
  {
   "cell_type": "code",
   "execution_count": null,
   "metadata": {},
   "outputs": [],
   "source": []
  }
 ],
 "metadata": {
  "kernelspec": {
   "display_name": "hstar",
   "language": "python",
   "name": "python3"
  },
  "language_info": {
   "codemirror_mode": {
    "name": "ipython",
    "version": 3
   },
   "file_extension": ".py",
   "mimetype": "text/x-python",
   "name": "python",
   "nbconvert_exporter": "python",
   "pygments_lexer": "ipython3",
   "version": "3.12.9"
  }
 },
 "nbformat": 4,
 "nbformat_minor": 2
}
