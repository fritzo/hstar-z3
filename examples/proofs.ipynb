{
 "cells": [
  {
   "cell_type": "markdown",
   "metadata": {},
   "source": [
    "# Extract counterexamples from a Z3 proof"
   ]
  },
  {
   "cell_type": "code",
   "execution_count": null,
   "metadata": {},
   "outputs": [],
   "source": [
    "from collections.abc import Callable\n",
    "from typing import Any, TypeVar\n",
    "\n",
    "import z3\n",
    "from z3 import ForAll, Not\n",
    "\n",
    "V = TypeVar(\"V\", bound=Callable)\n",
    "\n",
    "def run(fn: V) -> V:\n",
    "    fn()\n",
    "    return fn"
   ]
  },
  {
   "cell_type": "code",
   "execution_count": null,
   "metadata": {},
   "outputs": [],
   "source": [
    "# Adapted from\n",
    "# https://microsoft.github.io/z3guide/programming/Proof%20Logs/#capture-just-quantifier-instantiations\n",
    "\n",
    "def log_instance(pr: z3.ExprRef, *args: Any) -> None:\n",
    "    if not z3.is_app(pr) or pr.decl().name() != \"inst\":\n",
    "        return\n",
    "    quant = pr.arg(0)\n",
    "    if quant.qid() != \"synthesis\":\n",
    "        return\n",
    "    for child in pr.children():\n",
    "        if not z3.is_app(child) or child.decl().name() != \"bind\":\n",
    "            continue\n",
    "        # Extract the bindings (counterexample values)\n",
    "        bindings = child.children()\n",
    "        print(f\"Quantifier: {quant}\")\n",
    "        \n",
    "        # Extract and print the bound variables and their values\n",
    "        if quant.num_vars() > 0:\n",
    "            for i in range(quant.num_vars()):\n",
    "                var_name = quant.var_name(i)\n",
    "                var_value = bindings[i]\n",
    "                print(f\"Counterexample: {var_name} = {var_value}\")\n",
    "\n",
    "\n",
    "@run\n",
    "def print_instances() -> None:\n",
    "    solver = z3.Solver()\n",
    "    x = z3.Int(\"x\")\n",
    "    constraint = x * x == 4\n",
    "    solver.add(ForAll([x], Not(constraint), qid=\"synthesis\"))\n",
    "    z3.OnClause(solver, log_instance)\n",
    "    print(solver.check())"
   ]
  },
  {
   "cell_type": "code",
   "execution_count": null,
   "metadata": {},
   "outputs": [],
   "source": [
    "_INSTANCE: list[z3.ExprRef] = []\n",
    "\n",
    "def save_instance(pr: z3.ExprRef, *args: Any) -> None:\n",
    "    global _INSTANCE\n",
    "    if not z3.is_app(pr) or pr.decl().name() != \"inst\":\n",
    "        return\n",
    "    quant = pr.arg(0)\n",
    "    if quant.qid() != \"synthesis\":\n",
    "        return\n",
    "    for child in pr.children():\n",
    "        if not z3.is_app(child) or child.decl().name() != \"bind\":\n",
    "            continue\n",
    "        _INSTANCE = child.children()\n",
    "\n",
    "@run\n",
    "def extract_instances() -> list[z3.ExprRef]:\n",
    "    solver = z3.Solver()\n",
    "    x = z3.Int(\"x\")\n",
    "    constraint = x * x == 4\n",
    "    solver.add(ForAll([x], Not(constraint), qid=\"synthesis\"))\n",
    "    z3.OnClause(solver, save_instance)\n",
    "    print(solver.check())\n",
    "    print(_INSTANCE)\n",
    "    return _INSTANCE"
   ]
  },
  {
   "cell_type": "code",
   "execution_count": null,
   "metadata": {},
   "outputs": [],
   "source": []
  }
 ],
 "metadata": {
  "kernelspec": {
   "display_name": "hstar",
   "language": "python",
   "name": "python3"
  },
  "language_info": {
   "codemirror_mode": {
    "name": "ipython",
    "version": 3
   },
   "file_extension": ".py",
   "mimetype": "text/x-python",
   "name": "python",
   "nbconvert_exporter": "python",
   "pygments_lexer": "ipython3",
   "version": "3.12.9"
  }
 },
 "nbformat": 4,
 "nbformat_minor": 2
}
