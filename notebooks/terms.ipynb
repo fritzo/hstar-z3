{
 "cells": [
  {
   "cell_type": "markdown",
   "metadata": {},
   "source": [
    "# Enumerating λ-join-calculus normal forms"
   ]
  },
  {
   "cell_type": "code",
   "execution_count": null,
   "metadata": {},
   "outputs": [],
   "source": [
    "from collections import Counter\n",
    "\n",
    "import matplotlib.pyplot as plt\n",
    "\n",
    "from hstar.enumeration import enumerator\n",
    "from hstar.grammar import Term, complexity\n",
    "\n",
    "%config InlineBackend.figure_format = 'svg'"
   ]
  },
  {
   "cell_type": "code",
   "execution_count": null,
   "metadata": {},
   "outputs": [],
   "source": [
    "%%time\n",
    "max_complexity = 10\n",
    "terms: list[Term] = []\n",
    "for term in enumerator:\n",
    "    if complexity(term) > max_complexity:\n",
    "        break\n",
    "    terms.append(term)\n",
    "len(terms)"
   ]
  },
  {
   "cell_type": "code",
   "execution_count": null,
   "metadata": {},
   "outputs": [],
   "source": [
    "closed_terms = [t for t in terms if not t.free_vars]\n",
    "len(closed_terms)"
   ]
  },
  {
   "cell_type": "code",
   "execution_count": null,
   "metadata": {},
   "outputs": [],
   "source": [
    "def plot_counts() -> None:\n",
    "    all_counts = Counter(complexity(t) for t in terms)\n",
    "    closed_counts = Counter(complexity(t) for t in closed_terms)\n",
    "    x = range(1, max_complexity + 1)\n",
    "    y1 = [all_counts[i] for i in x]\n",
    "    y2 = [closed_counts[i] for i in x]\n",
    "    plt.plot(x, y1, label=\"All terms\")\n",
    "    plt.plot(x, y2, label=\"Closed terms\")\n",
    "    plt.legend(loc=\"best\")\n",
    "    plt.yscale(\"log\")\n",
    "    plt.xlabel(\"Complexity\")\n",
    "    plt.ylabel(\"Count\")\n",
    "    plt.title(\"How many linear normal forms are there?\")\n",
    "    plt.show()\n",
    "\n",
    "plot_counts()\n"
   ]
  },
  {
   "cell_type": "code",
   "execution_count": null,
   "metadata": {},
   "outputs": [],
   "source": []
  }
 ],
 "metadata": {
  "kernelspec": {
   "display_name": "hstar",
   "language": "python",
   "name": "python3"
  },
  "language_info": {
   "codemirror_mode": {
    "name": "ipython",
    "version": 3
   },
   "file_extension": ".py",
   "mimetype": "text/x-python",
   "name": "python",
   "nbconvert_exporter": "python",
   "pygments_lexer": "ipython3",
   "version": "3.12.9"
  }
 },
 "nbformat": 4,
 "nbformat_minor": 2
}
